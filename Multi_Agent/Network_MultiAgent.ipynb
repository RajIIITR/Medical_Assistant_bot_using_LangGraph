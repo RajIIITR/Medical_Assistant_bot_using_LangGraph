{
 "cells": [
  {
   "cell_type": "code",
   "execution_count": 5,
   "id": "173f9461",
   "metadata": {},
   "outputs": [
    {
     "name": "stderr",
     "output_type": "stream",
     "text": [
      "c:\\Users\\Abhishek\\Desktop\\langgraph_learning\\langgraph_learning\\lib\\site-packages\\tqdm\\auto.py:21: TqdmWarning: IProgress not found. Please update jupyter and ipywidgets. See https://ipywidgets.readthedocs.io/en/stable/user_install.html\n",
      "  from .autonotebook import tqdm as notebook_tqdm\n"
     ]
    }
   ],
   "source": [
    "from typing_extensions import Literal\n",
    "from langchain_core.tools import tool\n",
    "from langchain_groq import ChatGroq\n",
    "from langgraph.graph import MessagesState, StateGraph,START,END\n",
    "from langgraph.types import Command\n",
    "from dotenv import load_dotenv\n",
    "from IPython.display import Image, display\n",
    "# from langchain_openai import ChatOpenAI\n",
    "from langchain_google_genai import ChatGoogleGenerativeAI\n",
    "from langchain_core.messages import BaseMessage, HumanMessage\n",
    "from langgraph.prebuilt import create_react_agent\n",
    "from typing import Annotated\n",
    "from langchain_experimental.utilities import PythonREPL"
   ]
  },
  {
   "cell_type": "code",
   "execution_count": 6,
   "id": "f441ce87",
   "metadata": {},
   "outputs": [
    {
     "data": {
      "text/plain": [
       "True"
      ]
     },
     "execution_count": 6,
     "metadata": {},
     "output_type": "execute_result"
    }
   ],
   "source": [
    "load_dotenv()"
   ]
  },
  {
   "cell_type": "code",
   "execution_count": 7,
   "id": "892c9b19",
   "metadata": {},
   "outputs": [],
   "source": [
    "Google_model = ChatGoogleGenerativeAI(model=\"gemini-2.5-flash\")"
   ]
  },
  {
   "cell_type": "code",
   "execution_count": 4,
   "id": "ee34332e",
   "metadata": {},
   "outputs": [],
   "source": [
    "groq_model=ChatGroq(model=\"deepseek-r1-distill-llama-70b\")"
   ]
  },
  {
   "cell_type": "code",
   "execution_count": 8,
   "id": "4b828783",
   "metadata": {},
   "outputs": [
    {
     "data": {
      "text/plain": [
       "AIMessage(content='Hi there! How can I help you today?', additional_kwargs={}, response_metadata={'prompt_feedback': {'block_reason': 0, 'safety_ratings': []}, 'finish_reason': 'STOP', 'safety_ratings': []}, id='run--660f0f03-9799-47cf-90ad-4ed6adc66a02-0', usage_metadata={'input_tokens': 2, 'output_tokens': 10, 'total_tokens': 36, 'input_token_details': {'cache_read': 0}})"
      ]
     },
     "execution_count": 8,
     "metadata": {},
     "output_type": "execute_result"
    }
   ],
   "source": [
    "Google_model.invoke(\"hi\")"
   ]
  },
  {
   "cell_type": "markdown",
   "id": "328d322e",
   "metadata": {},
   "source": [
    "Demo-Project 1"
   ]
  },
  {
   "cell_type": "code",
   "execution_count": 10,
   "id": "e11249b5",
   "metadata": {},
   "outputs": [
    {
     "name": "stdout",
     "output_type": "stream",
     "text": [
      "additional result: 3\n"
     ]
    }
   ],
   "source": [
    "def add_numbers(state):\n",
    "    result=state[\"num1\"]+state[\"num2\"]\n",
    "    print(f\"additional result: {result}\")\n",
    "    return Command(goto=\"multiply\",update={\"sum\":result})\n",
    "\n",
    "add_numbers(state)\n",
    "state={\"num1\":1, \"num2\":2}"
   ]
  },
  {
   "cell_type": "code",
   "execution_count": 11,
   "id": "96f30c19",
   "metadata": {},
   "outputs": [],
   "source": [
    "@tool\n",
    "def transfer_to_multiplication_expert():\n",
    "    \"\"\"Ask multiplication agent for help\"\"\"\n",
    "    return "
   ]
  },
  {
   "cell_type": "code",
   "execution_count": 12,
   "id": "c0e5f051",
   "metadata": {},
   "outputs": [],
   "source": [
    "@tool\n",
    "def transfer_to_addition_expert():\n",
    "    \"\"\"Ask addition agent for help\"\"\"\n",
    "    return "
   ]
  },
  {
   "cell_type": "code",
   "execution_count": 13,
   "id": "61b87b30",
   "metadata": {},
   "outputs": [],
   "source": [
    "model_with_tool=Google_model.bind_tools([transfer_to_multiplication_expert])"
   ]
  },
  {
   "cell_type": "code",
   "execution_count": 14,
   "id": "4dc074f2",
   "metadata": {},
   "outputs": [],
   "source": [
    "ai_message=model_with_tool.invoke(\"hi how are you?\")"
   ]
  },
  {
   "cell_type": "markdown",
   "id": "68a231ff",
   "metadata": {},
   "source": [
    "Below we are checking whether any tool call had been made!"
   ]
  },
  {
   "cell_type": "code",
   "execution_count": 15,
   "id": "384fe9d0",
   "metadata": {},
   "outputs": [
    {
     "data": {
      "text/plain": [
       "[]"
      ]
     },
     "execution_count": 15,
     "metadata": {},
     "output_type": "execute_result"
    }
   ],
   "source": [
    "ai_message.tool_calls"
   ]
  },
  {
   "cell_type": "code",
   "execution_count": 16,
   "id": "95df7e8e",
   "metadata": {},
   "outputs": [],
   "source": [
    "ai_message=model_with_tool.invoke(\"what's (3 + 5) * 12. Provide me the output\")"
   ]
  },
  {
   "cell_type": "code",
   "execution_count": 17,
   "id": "1796500e",
   "metadata": {},
   "outputs": [
    {
     "data": {
      "text/plain": [
       "[{'name': 'transfer_to_multiplication_expert',\n",
       "  'args': {},\n",
       "  'id': '34005425-9e18-4e8d-b43b-afd0d3bbd6d8',\n",
       "  'type': 'tool_call'}]"
      ]
     },
     "execution_count": 17,
     "metadata": {},
     "output_type": "execute_result"
    }
   ],
   "source": [
    "ai_message.tool_calls"
   ]
  },
  {
   "cell_type": "code",
   "execution_count": null,
   "id": "269be5ab",
   "metadata": {},
   "outputs": [],
   "source": [
    "def additional_expert(state:MessagesState)-> Command[Literal[\"multiplication_expert\", \"__end__\"]]:\n",
    "    \n",
    "    system_prompt = (\n",
    "        \"You are an addition expert, you can ask the multiplication expert for help with multiplication.\"\n",
    "        \"Always do your portion of calculation before the handoff.\"\n",
    "    )\n",
    "    \n",
    "    messages = [{\"role\": \"system\", \"content\": system_prompt}] + state[\"messages\"]\n",
    "    \n",
    "    \n",
    "    ai_msg = Google_model.bind_tools([transfer_to_multiplication_expert]).invoke(messages)\n",
    "    \n",
    "    # If any tool call was made\n",
    "    if len(ai_msg.tool_calls) > 0:\n",
    "        tool_call_id = ai_msg.tool_calls[-1][\"id\"]\n",
    "        tool_msg = {\n",
    "            \"role\": \"tool\",\n",
    "            \"content\": \"Successfully transferred\",\n",
    "            \"tool_call_id\": tool_call_id,\n",
    "        }\n",
    "        \n",
    "        return Command(\n",
    "            goto=\"multiplication_expert\", update={\"messages\": [ai_msg, tool_msg]}\n",
    "        )\n",
    "    #else return message if no tool call\n",
    "    return {\"messages\": [ai_msg]}"
   ]
  },
  {
   "cell_type": "code",
   "execution_count": 25,
   "id": "d5825e51",
   "metadata": {},
   "outputs": [],
   "source": [
    "def multiplication_expert(state:MessagesState)-> Command[Literal[\"additional_expert\", \"__end__\"]]:\n",
    "    \n",
    "    system_prompt = (\n",
    "        \"You are a multiplication expert, you can ask an addition expert for help with addition. \"\n",
    "        \"Always do your portion of calculation before the handoff.\"\n",
    "    )\n",
    "    \n",
    "    messages = [{\"role\": \"system\", \"content\": system_prompt}] + state[\"messages\"]\n",
    "    \n",
    "    ai_msg = Google_model.bind_tools([transfer_to_addition_expert]).invoke(messages)\n",
    "    \n",
    "    if len(ai_msg.tool_calls) > 0:\n",
    "        tool_call_id = ai_msg.tool_calls[-1][\"id\"]\n",
    "        tool_msg = {\n",
    "            \"role\": \"tool\",\n",
    "            \"content\": \"Successfully transferred\",\n",
    "            \"tool_call_id\": tool_call_id,\n",
    "        }\n",
    "        return Command(goto=\"additional_expert\", update={\"messages\": [ai_msg, tool_msg]})\n",
    "    return {\"messages\": [ai_msg]}"
   ]
  },
  {
   "cell_type": "code",
   "execution_count": 27,
   "id": "74a487b6",
   "metadata": {},
   "outputs": [
    {
     "data": {
      "text/plain": [
       "<langgraph.graph.state.StateGraph at 0x28af70f7070>"
      ]
     },
     "execution_count": 27,
     "metadata": {},
     "output_type": "execute_result"
    }
   ],
   "source": [
    "graph=StateGraph(MessagesState)\n",
    "\n",
    "graph.add_node(\"additional_expert\",additional_expert)\n",
    "graph.add_node(\"multiplication_expert\",multiplication_expert)"
   ]
  },
  {
   "cell_type": "code",
   "execution_count": 28,
   "id": "85eb870f",
   "metadata": {},
   "outputs": [
    {
     "data": {
      "text/plain": [
       "<langgraph.graph.state.StateGraph at 0x28af70f7070>"
      ]
     },
     "execution_count": 28,
     "metadata": {},
     "output_type": "execute_result"
    }
   ],
   "source": [
    "graph.add_edge(START, \"additional_expert\")"
   ]
  },
  {
   "cell_type": "code",
   "execution_count": 29,
   "id": "cdd42d55",
   "metadata": {},
   "outputs": [],
   "source": [
    "app = graph.compile()"
   ]
  },
  {
   "cell_type": "code",
   "execution_count": 30,
   "id": "7f849d7c",
   "metadata": {},
   "outputs": [
    {
     "data": {
      "image/png": "[encoded data removed]",
      "text/plain": [
       "<IPython.core.display.Image object>"
      ]
     },
     "metadata": {},
     "output_type": "display_data"
    }
   ],
   "source": [
    "display(Image(app.get_graph().draw_mermaid_png()))"
   ]
  },
  {
   "cell_type": "code",
   "execution_count": 31,
   "id": "6834e93c",
   "metadata": {},
   "outputs": [
    {
     "data": {
      "text/plain": [
       "{'messages': [HumanMessage(content=\"what's (3 + 5) * 12. Provide me the output\", additional_kwargs={}, response_metadata={}, id='e24c17fa-b552-4036-af5d-fcbb2b5bb893'),\n",
       "  AIMessage(content=\"I can help you with the addition part. 3 + 5 = 8.\\nNow we need to multiply 8 by 12. I'll transfer this to the multiplication expert.\", additional_kwargs={'function_call': {'name': 'transfer_to_multiplication_expert', 'arguments': '{}'}}, response_metadata={'prompt_feedback': {'block_reason': 0, 'safety_ratings': []}, 'finish_reason': 'STOP', 'safety_ratings': []}, id='run--2134ffa3-7c90-4322-9efd-2a7cc8b16f2b-0', tool_calls=[{'name': 'transfer_to_multiplication_expert', 'args': {}, 'id': 'c3b566e5-5ccd-492a-85b8-2c7a061fba4a', 'type': 'tool_call'}], usage_metadata={'input_tokens': 78, 'output_tokens': 56, 'total_tokens': 243, 'input_token_details': {'cache_read': 0}}),\n",
       "  ToolMessage(content='Successfully transferred', id='8fdf40b6-8327-48e0-8bbb-d0d2f580d0f2', tool_call_id='c3b566e5-5ccd-492a-85b8-2c7a061fba4a'),\n",
       "  AIMessage(content='I need to calculate (3 + 5) * 12. Since I am a multiplication expert and I need help with the addition part (3 + 5), I will transfer this to the addition expert.', additional_kwargs={'function_call': {'name': 'transfer_to_addition_expert', 'arguments': '{}'}}, response_metadata={'prompt_feedback': {'block_reason': 0, 'safety_ratings': []}, 'finish_reason': 'STOP', 'safety_ratings': []}, id='run--86b7599b-6325-4a45-a740-c3e84ff6d75c-0', tool_calls=[{'name': 'transfer_to_addition_expert', 'args': {}, 'id': 'e74e91c2-9d3a-4168-a068-fc6b241afa31', 'type': 'tool_call'}], usage_metadata={'input_tokens': 113, 'output_tokens': 59, 'total_tokens': 2071, 'input_token_details': {'cache_read': 0}}),\n",
       "  ToolMessage(content='Successfully transferred', id='75c4635b-bbb1-4c16-9999-772409f7eb3f', tool_call_id='e74e91c2-9d3a-4168-a068-fc6b241afa31'),\n",
       "  AIMessage(content='I have calculated the sum of 3 and 5, which is 8. The next step is to multiply this result by 12. I am transferring this task to the multiplication expert.', additional_kwargs={'function_call': {'name': 'transfer_to_multiplication_expert', 'arguments': '{}'}}, response_metadata={'prompt_feedback': {'block_reason': 0, 'safety_ratings': []}, 'finish_reason': 'STOP', 'safety_ratings': []}, id='run--09a75f23-154b-46da-b882-acc28d20306c-0', tool_calls=[{'name': 'transfer_to_multiplication_expert', 'args': {}, 'id': '0e3a263c-00a2-404a-ae65-178cb27c4237', 'type': 'tool_call'}], usage_metadata={'input_tokens': 148, 'output_tokens': 55, 'total_tokens': 3117, 'input_token_details': {'cache_read': 0}}),\n",
       "  ToolMessage(content='Successfully transferred', id='6a442ee2-1ac2-4774-88b8-90defca83a78', tool_call_id='0e3a263c-00a2-404a-ae65-178cb27c4237'),\n",
       "  AIMessage(content='(3 + 5) * 12 = 8 * 12 = 96', additional_kwargs={}, response_metadata={'prompt_feedback': {'block_reason': 0, 'safety_ratings': []}, 'finish_reason': 'STOP', 'safety_ratings': []}, id='run--80963138-ecbd-46d9-bcb5-960b16074b1d-0', usage_metadata={'input_tokens': 183, 'output_tokens': 21, 'total_tokens': 339, 'input_token_details': {'cache_read': 0}})]}"
      ]
     },
     "execution_count": 31,
     "metadata": {},
     "output_type": "execute_result"
    }
   ],
   "source": [
    "app.invoke({\"messages\":[(\"user\",\"what's (3 + 5) * 12. Provide me the output\")]})"
   ]
  },
  {
   "cell_type": "code",
   "execution_count": 32,
   "id": "2d79959c",
   "metadata": {},
   "outputs": [],
   "source": [
    "from langchain_core.messages import convert_to_messages\n",
    "def pretty_print_messages(update):\n",
    "    if isinstance(update, tuple):\n",
    "        ns, update = update\n",
    "        # skip parent graph updates in the printouts\n",
    "        if len(ns) == 0:\n",
    "            return\n",
    "\n",
    "        graph_id = ns[-1].split(\":\")[0]\n",
    "        print(f\"Update from subgraph {graph_id}:\")\n",
    "        print(\"\\n\")\n",
    "\n",
    "    for node_name, node_update in update.items():\n",
    "        print(f\"Update from node {node_name}:\")\n",
    "        print(\"\\n\")\n",
    "\n",
    "        for m in convert_to_messages(node_update[\"messages\"]):\n",
    "            m.pretty_print()\n",
    "        print(\"\\n\")"
   ]
  },
  {
   "cell_type": "code",
   "execution_count": 33,
   "id": "35536573",
   "metadata": {},
   "outputs": [
    {
     "name": "stdout",
     "output_type": "stream",
     "text": [
      "****chunk...****\n",
      "Update from node additional_expert:\n",
      "\n",
      "\n",
      "==================================\u001b[1m Ai Message \u001b[0m==================================\n",
      "\n",
      "The sum of 3 and 5 is 8. I'll transfer this to the multiplication expert to calculate 8 * 12.\n",
      "Tool Calls:\n",
      "  transfer_to_multiplication_expert (985fb280-74aa-4898-a2b9-587deb9f4302)\n",
      " Call ID: 985fb280-74aa-4898-a2b9-587deb9f4302\n",
      "  Args:\n",
      "=================================\u001b[1m Tool Message \u001b[0m=================================\n",
      "\n",
      "Successfully transferred\n",
      "\n",
      "\n",
      "****chunk...****\n",
      "Update from node multiplication_expert:\n",
      "\n",
      "\n",
      "==================================\u001b[1m Ai Message \u001b[0m==================================\n",
      "Tool Calls:\n",
      "  transfer_to_addition_expert (698c0ea4-03ae-477c-8254-10500c6123bc)\n",
      " Call ID: 698c0ea4-03ae-477c-8254-10500c6123bc\n",
      "  Args:\n",
      "=================================\u001b[1m Tool Message \u001b[0m=================================\n",
      "\n",
      "Successfully transferred\n",
      "\n",
      "\n",
      "****chunk...****\n",
      "Update from node additional_expert:\n",
      "\n",
      "\n",
      "==================================\u001b[1m Ai Message \u001b[0m==================================\n",
      "\n",
      "I have calculated 3 + 5 = 8. I am now transferring this to the multiplication expert to calculate 8 * 12.\n",
      "Tool Calls:\n",
      "  transfer_to_multiplication_expert (2904bb2d-624a-4749-bc3a-2c16f5cfa35e)\n",
      " Call ID: 2904bb2d-624a-4749-bc3a-2c16f5cfa35e\n",
      "  Args:\n",
      "=================================\u001b[1m Tool Message \u001b[0m=================================\n",
      "\n",
      "Successfully transferred\n",
      "\n",
      "\n",
      "****chunk...****\n",
      "Update from node multiplication_expert:\n",
      "\n",
      "\n",
      "==================================\u001b[1m Ai Message \u001b[0m==================================\n",
      "\n",
      "I am a multiplication expert. I see that the problem involves an addition operation `(3 + 5)` which needs to be calculated first. I will transfer this part of the calculation to the addition expert. Once I receive the sum, I will complete the multiplication.\n",
      "Tool Calls:\n",
      "  transfer_to_addition_expert (f8d9f134-f9f4-44d6-b8c8-df0e000d3cf5)\n",
      " Call ID: f8d9f134-f9f4-44d6-b8c8-df0e000d3cf5\n",
      "  Args:\n",
      "=================================\u001b[1m Tool Message \u001b[0m=================================\n",
      "\n",
      "Successfully transferred\n",
      "\n",
      "\n",
      "****chunk...****\n",
      "Update from node additional_expert:\n",
      "\n",
      "\n",
      "==================================\u001b[1m Ai Message \u001b[0m==================================\n",
      "\n",
      "I've calculated 3 + 5 = 8. Now I'll transfer this to the multiplication expert to handle 8 * 12.\n",
      "Tool Calls:\n",
      "  transfer_to_multiplication_expert (cfce8b34-4353-4138-b3be-54889a2853e7)\n",
      " Call ID: cfce8b34-4353-4138-b3be-54889a2853e7\n",
      "  Args:\n",
      "=================================\u001b[1m Tool Message \u001b[0m=================================\n",
      "\n",
      "Successfully transferred\n",
      "\n",
      "\n",
      "****chunk...****\n",
      "Update from node multiplication_expert:\n",
      "\n",
      "\n",
      "==================================\u001b[1m Ai Message \u001b[0m==================================\n",
      "\n",
      "The calculation is (3 + 5) * 12.\n",
      "First, I perform the addition: 3 + 5 = 8. (For this step, I would typically ask the addition expert for help.)\n",
      "Then, I perform the multiplication: 8 * 12 = 96.\n",
      "\n",
      "The output is 96.\n",
      "\n",
      "\n"
     ]
    }
   ],
   "source": [
    "# Let's run the graph with an expression that requires both addition and multiplication:\n",
    "for chunk in app.stream(\n",
    "    {\"messages\": [(\"user\", \"what's (3 + 5) * 12. Provide me the output\")]},\n",
    "):\n",
    "    print(\"****chunk...****\")\n",
    "    \n",
    "    pretty_print_messages(chunk)"
   ]
  },
  {
   "cell_type": "markdown",
   "id": "81ce71c8",
   "metadata": {},
   "source": [
    "Demo-Project 2"
   ]
  },
  {
   "cell_type": "code",
   "execution_count": 34,
   "id": "5d5da6be",
   "metadata": {},
   "outputs": [],
   "source": [
    "@tool\n",
    "def transfer_to_travel_advisor():\n",
    "    \"\"\"Ask travel advisor for help.\"\"\"\n",
    "    return\n",
    "@tool\n",
    "def transfer_to_hotel_advisor():\n",
    "    \"\"\"Ask hotel advisor for help.\"\"\"\n",
    "    return"
   ]
  },
  {
   "cell_type": "code",
   "execution_count": 35,
   "id": "dd02d159",
   "metadata": {},
   "outputs": [],
   "source": [
    "def travel_advisor(state: MessagesState) -> Command[Literal[\"hotel_advisor\", \"__end__\"]]:\n",
    "    system_prompt = (\n",
    "        \"You are a general travel expert that can recommend travel destinations (e.g. countries, cities, etc). \"\n",
    "        \"If you need hotel recommendations, ask 'hotel_advisor' for help.\"\n",
    "    )\n",
    "    \n",
    "    messages = [{\"role\": \"system\", \"content\": system_prompt}] + state[\"messages\"]\n",
    "    \n",
    "    ai_msg = groq_model.bind_tools([transfer_to_hotel_advisor]).invoke(messages)\n",
    "    \n",
    "    if len(ai_msg.tool_calls) > 0:\n",
    "        tool_call_id = ai_msg.tool_calls[-1][\"id\"]\n",
    "        tool_msg = {\n",
    "            \"role\": \"tool\",\n",
    "            \"content\": \"Successfully transferred\",\n",
    "            \"tool_call_id\": tool_call_id,\n",
    "        }\n",
    "        \n",
    "        return Command(goto=\"hotel_advisor\", update={\"messages\": [ai_msg, tool_msg]})\n",
    "    \n",
    "    return {\"messages\": [ai_msg]}"
   ]
  },
  {
   "cell_type": "code",
   "execution_count": 36,
   "id": "dce9170c",
   "metadata": {},
   "outputs": [],
   "source": [
    "def hotel_advisor(state: MessagesState) -> Command[Literal[\"travel_advisor\", \"__end__\"]]:\n",
    "    system_prompt = (\n",
    "        \"You are a hotel expert that can provide hotel recommendations for a given destination. \"\n",
    "        \"If you need help picking travel destinations, ask 'travel_advisor' for help.\"\n",
    "    )\n",
    "    messages = [{\"role\": \"system\", \"content\": system_prompt}] + state[\"messages\"]\n",
    "    ai_msg = groq_model.bind_tools([transfer_to_travel_advisor]).invoke(messages)\n",
    "    if len(ai_msg.tool_calls) > 0:\n",
    "        tool_call_id = ai_msg.tool_calls[-1][\"id\"]\n",
    "        tool_msg = {\n",
    "            \"role\": \"tool\",\n",
    "            \"content\": \"Successfully transferred\",\n",
    "            \"tool_call_id\": tool_call_id,\n",
    "        }\n",
    "        return Command(goto=\"travel_advisor\", update={\"messages\": [ai_msg, tool_msg]})\n",
    "    return {\"messages\": [ai_msg]}"
   ]
  },
  {
   "cell_type": "code",
   "execution_count": 37,
   "id": "4593c590",
   "metadata": {},
   "outputs": [
    {
     "data": {
      "text/plain": [
       "<langgraph.graph.state.StateGraph at 0x28af70f52d0>"
      ]
     },
     "execution_count": 37,
     "metadata": {},
     "output_type": "execute_result"
    }
   ],
   "source": [
    "graph_builder = StateGraph(MessagesState)\n",
    "graph_builder.add_node(\"travel_advisor\", travel_advisor)\n",
    "graph_builder.add_node(\"hotel_advisor\", hotel_advisor)"
   ]
  },
  {
   "cell_type": "code",
   "execution_count": 38,
   "id": "9fb3ecc9",
   "metadata": {},
   "outputs": [
    {
     "data": {
      "text/plain": [
       "<langgraph.graph.state.StateGraph at 0x28af70f52d0>"
      ]
     },
     "execution_count": 38,
     "metadata": {},
     "output_type": "execute_result"
    }
   ],
   "source": [
    "# we'll always start with a general travel advisor\n",
    "graph_builder.add_edge(START, \"travel_advisor\")"
   ]
  },
  {
   "cell_type": "code",
   "execution_count": 39,
   "id": "6b4cd7d1",
   "metadata": {},
   "outputs": [
    {
     "data": {
      "image/png": "[encoded data removed]",
      "text/plain": [
       "<IPython.core.display.Image object>"
      ]
     },
     "metadata": {},
     "output_type": "display_data"
    }
   ],
   "source": [
    "app = graph_builder.compile()\n",
    "display(Image(app.get_graph().draw_mermaid_png()))"
   ]
  },
  {
   "cell_type": "code",
   "execution_count": 42,
   "id": "a6ad2aa4",
   "metadata": {},
   "outputs": [
    {
     "data": {
      "text/plain": [
       "{'messages': [HumanMessage(content='I am planning a trip to the California in the USA from Mumbai. Can you guide me on travel options and suggest the best hotel?', additional_kwargs={}, response_metadata={}, id='66425f80-c1c1-4d2a-8c1d-a7ca1017c542'),\n",
       "  AIMessage(content='', additional_kwargs={'tool_calls': [{'id': 'yt3dhjwk6', 'function': {'arguments': '{}', 'name': 'transfer_to_hotel_advisor'}, 'type': 'function'}]}, response_metadata={'token_usage': {'completion_tokens': 290, 'prompt_tokens': 179, 'total_tokens': 469, 'completion_time': 1.412664098, 'prompt_time': 0.013924668, 'queue_time': 0.27683873200000003, 'total_time': 1.426588766}, 'model_name': 'deepseek-r1-distill-llama-70b', 'system_fingerprint': 'fp_87eae35036', 'finish_reason': 'tool_calls', 'logprobs': None}, id='run--510931e6-4f09-4068-b2a4-25d5a26eedfc-0', tool_calls=[{'name': 'transfer_to_hotel_advisor', 'args': {}, 'id': 'yt3dhjwk6', 'type': 'tool_call'}], usage_metadata={'input_tokens': 179, 'output_tokens': 290, 'total_tokens': 469}),\n",
       "  ToolMessage(content='Successfully transferred', id='4a4cda28-da53-4e57-8f73-1d625c10f3e9', tool_call_id='yt3dhjwk6'),\n",
       "  AIMessage(content='Sure! For travel options and destinations in California, I recommend reaching out to the travel advisor. Once you have a specific destination in mind, feel free to ask me for hotel recommendations!', additional_kwargs={}, response_metadata={'token_usage': {'completion_tokens': 140, 'prompt_tokens': 227, 'total_tokens': 367, 'completion_time': 0.693088947, 'prompt_time': 0.013998475, 'queue_time': 0.279566465, 'total_time': 0.707087422}, 'model_name': 'deepseek-r1-distill-llama-70b', 'system_fingerprint': 'fp_87ec4d1ec3', 'finish_reason': 'stop', 'logprobs': None}, id='run--e487f371-d13e-4f2d-a571-95588d2bf69b-0', usage_metadata={'input_tokens': 227, 'output_tokens': 140, 'total_tokens': 367})]}"
      ]
     },
     "execution_count": 42,
     "metadata": {},
     "output_type": "execute_result"
    }
   ],
   "source": [
    "app.invoke({\"messages\":[(\"user\",\"I am planning a trip to the California in the USA from Mumbai. Can you guide me on travel options and suggest the best hotel?\")]})"
   ]
  },
  {
   "cell_type": "code",
   "execution_count": 43,
   "id": "225f74f9",
   "metadata": {},
   "outputs": [
    {
     "name": "stdout",
     "output_type": "stream",
     "text": [
      "****chunk****\n",
      "Update from node travel_advisor:\n",
      "\n",
      "\n",
      "==================================\u001b[1m Ai Message \u001b[0m==================================\n",
      "Tool Calls:\n",
      "  transfer_to_hotel_advisor (aepsp0g66)\n",
      " Call ID: aepsp0g66\n",
      "  Args:\n",
      "=================================\u001b[1m Tool Message \u001b[0m=================================\n",
      "\n",
      "Successfully transferred\n",
      "\n",
      "\n",
      "****chunk****\n",
      "Update from node hotel_advisor:\n",
      "\n",
      "\n",
      "==================================\u001b[1m Ai Message \u001b[0m==================================\n",
      "Tool Calls:\n",
      "  transfer_to_travel_advisor (xnmj92xgb)\n",
      " Call ID: xnmj92xgb\n",
      "  Args:\n",
      "=================================\u001b[1m Tool Message \u001b[0m=================================\n",
      "\n",
      "Successfully transferred\n",
      "\n",
      "\n",
      "****chunk****\n",
      "Update from node travel_advisor:\n",
      "\n",
      "\n",
      "==================================\u001b[1m Ai Message \u001b[0m==================================\n",
      "\n",
      "Sure! I'd be happy to help you plan your trip to California. For hotel recommendations, I'll transfer you to the hotel advisor.\n",
      "\n",
      "\n"
     ]
    }
   ],
   "source": [
    "for chunk in app.stream(\n",
    "    {\"messages\": [(\"user\", \"I am planning a trip to the California in the USA from Mumbai. Can you guide me on travel options and suggest the best hotel?\")]},\n",
    "):\n",
    "    print(\"****chunk****\")\n",
    "    \n",
    "    pretty_print_messages(chunk)"
   ]
  },
  {
   "cell_type": "code",
   "execution_count": 44,
   "id": "fa43b923",
   "metadata": {},
   "outputs": [
    {
     "name": "stdout",
     "output_type": "stream",
     "text": [
      "****chunk****\n",
      "Update from node travel_advisor:\n",
      "\n",
      "\n",
      "==================================\u001b[1m Ai Message \u001b[0m==================================\n",
      "Tool Calls:\n",
      "  transfer_to_hotel_advisor (798wn6v8q)\n",
      " Call ID: 798wn6v8q\n",
      "  Args:\n",
      "=================================\u001b[1m Tool Message \u001b[0m=================================\n",
      "\n",
      "Successfully transferred\n",
      "\n",
      "\n",
      "****chunk****\n",
      "Update from node hotel_advisor:\n",
      "\n",
      "\n",
      "==================================\u001b[1m Ai Message \u001b[0m==================================\n",
      "\n",
      "I'm here to help with hotel recommendations! If you need assistance with flight options, I recommend reaching out to a travel advisor. For hotel recommendations, feel free to share your destination and preferences, and I'll be happy to assist!\n",
      "\n",
      "\n"
     ]
    }
   ],
   "source": [
    "for chunk in app.stream(\n",
    "    {\"messages\": [(\"user\", \"What are the best flight options from Mumbai to California, and can you recommend top hotels for a comfortable and convenient stay?\")]},\n",
    "):\n",
    "    print(\"****chunk****\")\n",
    "    \n",
    "    pretty_print_messages(chunk)"
   ]
  }
 ],
 "metadata": {
  "kernelspec": {
   "display_name": "Python 3",
   "language": "python",
   "name": "python3"
  },
  "language_info": {
   "codemirror_mode": {
    "name": "ipython",
    "version": 3
   },
   "file_extension": ".py",
   "mimetype": "text/x-python",
   "name": "python",
   "nbconvert_exporter": "python",
   "pygments_lexer": "ipython3",
   "version": "3.10.17"
  }
 },
 "nbformat": 4,
 "nbformat_minor": 5
}
