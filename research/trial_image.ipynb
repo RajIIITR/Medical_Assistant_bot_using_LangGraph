{
 "cells": [
  {
   "cell_type": "code",
   "execution_count": 1,
   "id": "0474ef4e",
   "metadata": {},
   "outputs": [],
   "source": [
    "import os\n",
    "from dotenv import load_dotenv"
   ]
  },
  {
   "cell_type": "code",
   "execution_count": 2,
   "id": "d00f79a5",
   "metadata": {},
   "outputs": [
    {
     "data": {
      "text/plain": [
       "True"
      ]
     },
     "execution_count": 2,
     "metadata": {},
     "output_type": "execute_result"
    }
   ],
   "source": [
    "load_dotenv()"
   ]
  },
  {
   "cell_type": "code",
   "execution_count": 3,
   "id": "ff0e5683",
   "metadata": {},
   "outputs": [],
   "source": [
    "GOOGLE_API_KEY=os.getenv(\"GOOGLE_API_KEY\")\n",
    "TAVILY_API_KEY=os.getenv(\"TAVILY_API_KEY\")\n",
    "GROQ_API_KEY=os.getenv(\"GROQ_API_KEY\")\n",
    "PINECONE_API_KEY = os.getenv(\"PINECONE_API_KEY\")\n",
    "LANGCHAIN_API_KEY=os.getenv(\"LANGCHAIN_API_KEY\")\n",
    "LANGSMITH_PROJECT=\"MedQuery_LangGraph\""
   ]
  },
  {
   "cell_type": "code",
   "execution_count": 4,
   "id": "df7a72b9",
   "metadata": {},
   "outputs": [],
   "source": [
    "os.environ[\"GOOGLE_API_KEY\"] = GOOGLE_API_KEY\n",
    "os.environ[\"TAVILY_API_KEY\"] = TAVILY_API_KEY\n",
    "os.environ[\"GROQ_API_KEY\"]= GROQ_API_KEY\n",
    "os.environ[\"LANGCHAIN_API_KEY\"] = LANGCHAIN_API_KEY\n",
    "os.environ[\"PINECONE_API_KEY\"] = PINECONE_API_KEY\n",
    "os.environ[\"LANGCHAIN_TRACING_V2\"] = \"true\"\n",
    "os.environ[\"LANGCHAIN_ENDPOINT\"] = \"https://api.smith.langchain.com\"\n",
    "os.environ[\"LANGSMITH_PROJECT\"] = \"MedQuery_LangGraph\""
   ]
  },
  {
   "cell_type": "code",
   "execution_count": 5,
   "id": "ac1f6f4f",
   "metadata": {},
   "outputs": [
    {
     "name": "stderr",
     "output_type": "stream",
     "text": [
      "c:\\Users\\Abhishek\\Desktop\\langgraph_learning\\langgraph_learning\\lib\\site-packages\\tqdm\\auto.py:21: TqdmWarning: IProgress not found. Please update jupyter and ipywidgets. See https://ipywidgets.readthedocs.io/en/stable/user_install.html\n",
      "  from .autonotebook import tqdm as notebook_tqdm\n"
     ]
    }
   ],
   "source": [
    "from langchain_google_genai import ChatGoogleGenerativeAI\n",
    "llm = ChatGoogleGenerativeAI(model=\"gemini-2.5-flash\")"
   ]
  },
  {
   "cell_type": "code",
   "execution_count": 6,
   "id": "808dd435",
   "metadata": {},
   "outputs": [
    {
     "data": {
      "text/plain": [
       "AIMessage(content='Hello! How can I help you today?', additional_kwargs={}, response_metadata={'prompt_feedback': {'block_reason': 0, 'safety_ratings': []}, 'finish_reason': 'STOP', 'safety_ratings': []}, id='run--e8c0ef09-593a-44d6-89f2-459da26c22f3-0', usage_metadata={'input_tokens': 3, 'output_tokens': 9, 'total_tokens': 200, 'input_token_details': {'cache_read': 0}})"
      ]
     },
     "execution_count": 6,
     "metadata": {},
     "output_type": "execute_result"
    }
   ],
   "source": [
    "llm.invoke(\"Hello!\")"
   ]
  },
  {
   "cell_type": "markdown",
   "id": "0646bd65",
   "metadata": {},
   "source": [
    "Let's make our state which will traverse to all Node"
   ]
  },
  {
   "cell_type": "code",
   "execution_count": 7,
   "id": "63e8d7eb",
   "metadata": {},
   "outputs": [],
   "source": [
    "from typing import List\n",
    "from typing_extensions import TypedDict\n",
    "\n",
    "#Reason of creating this state is that we will let this value goes through all node and get updated.\n",
    "class State(TypedDict):\n",
    "    \"\"\"\n",
    "    Represents th state of our graph.\n",
    "\n",
    "    Attributes:\n",
    "        question: question\n",
    "        generation: LLM generation\n",
    "        web_search: whether to add search\n",
    "        documents: list of documents\n",
    "    \"\"\"\n",
    "\n",
    "    question: str\n",
    "    generation: str\n",
    "    image_info: str\n",
    "    Image_Valid: str\n",
    "    documents: List[str]\n",
    "    image_path: str"
   ]
  },
  {
   "cell_type": "markdown",
   "id": "b85a66bb",
   "metadata": {},
   "source": [
    "Creating a function to judge whether a given image is medical related or not"
   ]
  },
  {
   "cell_type": "code",
   "execution_count": 71,
   "id": "f6bc9e81",
   "metadata": {},
   "outputs": [],
   "source": [
    "from langchain_core.prompts import ChatPromptTemplate\n",
    "from pydantic import BaseModel, Field\n",
    "from langchain_core.messages import HumanMessage\n",
    "import base64\n",
    "from PIL import Image as PILImage\n",
    "import io"
   ]
  },
  {
   "cell_type": "code",
   "execution_count": 25,
   "id": "5a1f47db",
   "metadata": {},
   "outputs": [],
   "source": [
    "class GradeImage(BaseModel):\n",
    "    \"\"\"Binary score for relevance check on Image whether it is valid medical related Image or Not.\"\"\"\n",
    "    \n",
    "    binary_score: str = Field(\n",
    "        description=\"Image is relevant to medical aspects, 'yes' or 'no'\"\n",
    "    )"
   ]
  },
  {
   "cell_type": "code",
   "execution_count": 72,
   "id": "574f803b",
   "metadata": {},
   "outputs": [],
   "source": [
    "def preprocess_image(image_path: str, max_size: tuple = (512, 512)) -> PILImage:\n",
    "    \"\"\"Preprocess image for model input\"\"\"\n",
    "    \n",
    "    image = PILImage.open(image_path)\n",
    "    \n",
    "    image.thumbnail(max_size, PILImage.LANCZOS)\n",
    "    \n",
    "    if image.mode != 'RGB':\n",
    "        image = image.convert('RGB')\n",
    "    \n",
    "    return image"
   ]
  },
  {
   "cell_type": "code",
   "execution_count": 73,
   "id": "c8214bc5",
   "metadata": {},
   "outputs": [],
   "source": [
    "def image_to_base64(image: PILImage) -> str:\n",
    "    \"\"\"Convert PIL Image to base64 encoded string\"\"\"\n",
    "    buffered = io.BytesIO()\n",
    "    image.save(buffered, format=\"JPEG\", quality=85)\n",
    "    return base64.b64encode(buffered.getvalue()).decode()"
   ]
  },
  {
   "cell_type": "code",
   "execution_count": 74,
   "metadata": {},
   "outputs": [],
   "source": [
    "def encode_image_to_base64(state):\n",
    "    \"\"\"Encode image to base64 string for Gemini model input\"\"\"\n",
    "    print(\"Supported image formats: JPEG (.jpg, .jpeg), PNG (.png)\")\n",
    "    print(\"Recommended: Use JPEG format for best compatibility\")\n",
    "    image_path = state[\"image_path\"] \n",
    "    \n",
    "    # Preprocess the image\n",
    "    processed_image = preprocess_image(image_path)  \n",
    "    \n",
    "    # Convert to base64\n",
    "    base64_image = image_to_base64(processed_image)\n",
    "    \n",
    "    return base64_image"
   ]
  },
  {
   "cell_type": "code",
   "execution_count": 75,
   "id": "f45dbfa6",
   "metadata": {},
   "outputs": [],
   "source": [
    "def create_image_grader(llm):\n",
    "    \"\"\"Create image grader for medical relevance\"\"\"\n",
    "    structured_llm_grader = llm.with_structured_output(GradeImage)\n",
    "    \n",
    "    # System prompt\n",
    "    system = \"\"\"You are a grader assessing relevance of an input image to medical aspects. \n",
    "    Analyze the image content and determine if it contains medical-related elements such as:\n",
    "    - Medical equipment, scans, anatomy, symptoms, conditions\n",
    "    - Hospital/clinic environments, medical procedures\n",
    "    - Medications or medical supplies\n",
    "    \n",
    "    Give a binary score 'yes' or 'no' to indicate whether the image is relevant to medical aspects.\"\"\"\n",
    "    \n",
    "    # Create prompt with image format\n",
    "    grade_prompt = ChatPromptTemplate.from_messages([\n",
    "        (\"system\", system),\n",
    "        (\"human\", [\n",
    "            {\n",
    "                \"type\": \"text\",\n",
    "                \"text\": \"Analyze this image for medical relevance:\"\n",
    "            },\n",
    "            {\n",
    "                \"type\": \"image_url\",\n",
    "                \"image_url\": {\n",
    "                    \"url\": \"data:image/jpeg;base64,{image_data}\"\n",
    "                }\n",
    "            }\n",
    "        ])\n",
    "    ])\n",
    "    \n",
    "    return grade_prompt | structured_llm_grader"
   ]
  },
  {
   "cell_type": "code",
   "execution_count": 76,
   "id": "162258b3",
   "metadata": {},
   "outputs": [],
   "source": [
    "def grade_medical_image(state):\n",
    "    \"\"\"Grade whether an image is medical-related or not\"\"\"\n",
    "    # Encode image to base64 with preprocessing\n",
    "    base64_image = encode_image_to_base64(state)  # Pass state, not IMAGE_PATH\n",
    "    \n",
    "    # Create the grader chain\n",
    "    retrieval_grader = create_image_grader(llm)\n",
    "    \n",
    "    Image_Valid = \"Yes\"\n",
    "\n",
    "    # Invoke with image data\n",
    "    score = retrieval_grader.invoke({\"image_data\": base64_image})\n",
    "    grade = score.binary_score\n",
    "    if grade == \"yes\":\n",
    "        print(\"---GRADE: Image IS RELEVANT---\")\n",
    "    else:\n",
    "        print(\"---GRADE: Image IS NOT RELEVANT---\")\n",
    "        Image_Valid = \"No\"\n",
    "    return {\"Image_Valid\": Image_Valid}"
   ]
  },
  {
   "cell_type": "code",
   "execution_count": 77,
   "id": "787e21ff",
   "metadata": {},
   "outputs": [
    {
     "name": "stdout",
     "output_type": "stream",
     "text": [
      "Supported image formats: JPEG (.jpg, .jpeg), PNG (.png)\n",
      "Recommended: Use JPEG format for best compatibility\n",
      "---GRADE: Image IS RELEVANT---\n"
     ]
    },
    {
     "data": {
      "text/plain": [
       "{'Image_Valid': 'Yes'}"
      ]
     },
     "execution_count": 77,
     "metadata": {},
     "output_type": "execute_result"
    }
   ],
   "source": [
    "state_instance = {\n",
    "    \"question\": \"\",\n",
    "    \"generation\": \"\",\n",
    "    \"image_info\": \"\",\n",
    "    \"Image_Valid\": \"\",\n",
    "    \"documents\": [],\n",
    "    \"image_path\": \"C:/Users/Abhishek/Downloads/skin_image.jpg\"  # Replace with actual image path\n",
    "}\n",
    "\n",
    "# Call the function with the instance\n",
    "grade_medical_image(state_instance)"
   ]
  },
  {
   "cell_type": "code",
   "execution_count": 90,
   "id": "0b3b712b",
   "metadata": {},
   "outputs": [],
   "source": [
    "def decide_to_generate(state):\n",
    "    if state.get(\"Image_Valid\") == \"Yes\":\n",
    "        return \"Get_Image_Info\"\n",
    "    else:\n",
    "        return \"reject\"  # a custom node that handles rejection"
   ]
  },
  {
   "cell_type": "code",
   "execution_count": 41,
   "id": "31a3be46",
   "metadata": {},
   "outputs": [],
   "source": [
    "def reject_question(state):\n",
    "    print(\"---REJECTING: Not a medical image---\")\n",
    "    return {\n",
    "        \"question\": state[\"question\"],\n",
    "        \"documents\": [],\n",
    "        \"generation\": \"Given Image Doesn't belong to Medical Domain\"\n",
    "    }"
   ]
  },
  {
   "cell_type": "markdown",
   "id": "99e0e678",
   "metadata": {},
   "source": [
    "Let's get information regarding the image using Google Gemini model."
   ]
  },
  {
   "cell_type": "code",
   "execution_count": 42,
   "id": "070f405e",
   "metadata": {},
   "outputs": [],
   "source": [
    "from langchain_core.output_parsers import StrOutputParser"
   ]
  },
  {
   "cell_type": "code",
   "execution_count": 48,
   "id": "f6fef2cd",
   "metadata": {},
   "outputs": [],
   "source": [
    "def analyze_medical_image(state):\n",
    "    \"\"\"\n",
    "    Analyze medical image and store detailed information in image_info string.\n",
    "    \n",
    "    Args:\n",
    "        state: Current state of the workflow\n",
    "        image_path: Path to the medical image\n",
    "        llm: Language model with vision capabilities\n",
    "    \n",
    "    Returns:\n",
    "        Updated state with image_info populated\n",
    "    \"\"\"\n",
    "    \n",
    "    # Medical analysis prompt\n",
    "    medical_analysis_prompt = \"\"\"You are an expert medical image analyst. Analyze this medical image and provide detailed information about:\n",
    "\n",
    "1. Disease/Condition: What disease, condition, or medical finding is depicted?\n",
    "2. Medical Terminology: List relevant medical terms and terminology\n",
    "3. Anatomical Location: What body part or anatomical structure is affected?\n",
    "4. Severity Assessment: Assess the severity or stage if determinable\n",
    "5. Additional Findings: Any other medical observations\n",
    "\n",
    "Provide a short analysis suitable for medical evaluation. Format your response in a optimal way.\"\"\"\n",
    "\n",
    "    # Create prompt template\n",
    "    prompt = ChatPromptTemplate.from_messages([\n",
    "        (\"system\", medical_analysis_prompt),\n",
    "        (\"human\", [\n",
    "            {\n",
    "                \"type\": \"text\", \n",
    "                \"text\": \"Please analyze this medical image and provide detailed medical information:\"\n",
    "            },\n",
    "            {\n",
    "                \"type\": \"image_url\",\n",
    "                \"image_url\": {\n",
    "                    \"url\": \"data:image/jpeg;base64,{image_data}\"\n",
    "                }\n",
    "            }\n",
    "        ])\n",
    "    ])\n",
    "    # Encode image to base64\n",
    "    base64_image = encode_image_to_base64(state)\n",
    "    \n",
    "    # Create chain with StrOutputParser\n",
    "    chain = prompt | llm | StrOutputParser()\n",
    "    response = chain.invoke({\"image_data\": base64_image})\n",
    "\n",
    "    print(\"---Image Analysis---\")\n",
    "    print(\"response: \",response)\n",
    "\n",
    "    # Store the analysis in image_info as string\n",
    "    state[\"image_info\"] = response\n",
    "    \n",
    "    return state"
   ]
  },
  {
   "cell_type": "code",
   "execution_count": 49,
   "id": "78758ac3",
   "metadata": {},
   "outputs": [
    {
     "name": "stdout",
     "output_type": "stream",
     "text": [
      "Supported image formats: JPEG (.jpg, .jpeg), PNG (.png)\n",
      "Recommended: Use JPEG format for best compatibility\n",
      "---Image Analysis---\n",
      "response:  This image depicts common benign skin growths.\n",
      "\n",
      "**1. Disease/Condition:**\n",
      "*   **Skin tags (Acrochordons):** These are small, soft, benign skin growths that typically project from the surrounding skin on a narrow stalk (pedunculated).\n",
      "\n",
      "**2. Medical Terminology:**\n",
      "*   **Acrochordon:** The medical term for a skin tag.\n",
      "*   **Fibroepithelial polyp:** Another medical term, reflecting their composition of fibrous tissue and epithelium.\n",
      "*   **Benign neoplasm:** A non-cancerous growth.\n",
      "*   **Pedunculated lesion:** Describes a lesion attached by a stalk.\n",
      "*   **Papule/Nodule:** Small, raised skin lesions.\n",
      "\n",
      "**3. Anatomical Location:**\n",
      "*   **Neck:** Specifically, the lateral aspect of the neck and possibly extending to the supraclavicular or upper chest area.\n",
      "*   **Skin:** The integumentary system.\n",
      "\n",
      "**4. Severity Assessment:**\n",
      "*   **Benign and Asymptomatic:** Skin tags are generally harmless and do not cause symptoms unless irritated by friction (e.g., from clothing, jewelry) or trauma, which can lead to inflammation, bleeding, or pain.\n",
      "*   **Mild:** The lesions shown are of moderate size and appear to be common skin tags. There are no signs of inflammation, ulceration, or other concerning features. Their presence is primarily a cosmetic concern or a potential source of minor irritation.\n",
      "\n",
      "**5. Additional Findings:**\n",
      "*   **Multiple lesions:** At least two distinct skin tags are visible in the image.\n",
      "*   **Typical location:** The neck is a common site for skin tags, along with other intertriginous (skin fold) areas like the armpits, groin, and eyelids.\n",
      "*   **Varied size:** The lesions appear to be of slightly different sizes.\n",
      "*   **Flesh-colored to hyperpigmented:** The color is consistent with benign skin tags.\n"
     ]
    },
    {
     "data": {
      "text/plain": [
       "{'question': '',\n",
       " 'generation': '',\n",
       " 'image_info': 'This image depicts common benign skin growths.\\n\\n**1. Disease/Condition:**\\n*   **Skin tags (Acrochordons):** These are small, soft, benign skin growths that typically project from the surrounding skin on a narrow stalk (pedunculated).\\n\\n**2. Medical Terminology:**\\n*   **Acrochordon:** The medical term for a skin tag.\\n*   **Fibroepithelial polyp:** Another medical term, reflecting their composition of fibrous tissue and epithelium.\\n*   **Benign neoplasm:** A non-cancerous growth.\\n*   **Pedunculated lesion:** Describes a lesion attached by a stalk.\\n*   **Papule/Nodule:** Small, raised skin lesions.\\n\\n**3. Anatomical Location:**\\n*   **Neck:** Specifically, the lateral aspect of the neck and possibly extending to the supraclavicular or upper chest area.\\n*   **Skin:** The integumentary system.\\n\\n**4. Severity Assessment:**\\n*   **Benign and Asymptomatic:** Skin tags are generally harmless and do not cause symptoms unless irritated by friction (e.g., from clothing, jewelry) or trauma, which can lead to inflammation, bleeding, or pain.\\n*   **Mild:** The lesions shown are of moderate size and appear to be common skin tags. There are no signs of inflammation, ulceration, or other concerning features. Their presence is primarily a cosmetic concern or a potential source of minor irritation.\\n\\n**5. Additional Findings:**\\n*   **Multiple lesions:** At least two distinct skin tags are visible in the image.\\n*   **Typical location:** The neck is a common site for skin tags, along with other intertriginous (skin fold) areas like the armpits, groin, and eyelids.\\n*   **Varied size:** The lesions appear to be of slightly different sizes.\\n*   **Flesh-colored to hyperpigmented:** The color is consistent with benign skin tags.',\n",
       " 'Image_Valid': '',\n",
       " 'documents': [],\n",
       " 'image_path': 'C:/Users/Abhishek/Downloads/skin_image.jpg'}"
      ]
     },
     "execution_count": 49,
     "metadata": {},
     "output_type": "execute_result"
    }
   ],
   "source": [
    "# Create a state dictionary instance\n",
    "my_state = {\n",
    "    \"question\": \"\",\n",
    "    \"generation\": \"\",\n",
    "    \"image_info\": \"\",\n",
    "    \"Image_Valid\": \"\",\n",
    "    \"documents\": [],\n",
    "    \"image_path\": \"C:/Users/Abhishek/Downloads/skin_image.jpg\"\n",
    "}\n",
    "\n",
    "# Call with the dictionary instance\n",
    "analyze_medical_image(my_state)"
   ]
  },
  {
   "cell_type": "markdown",
   "id": "87750599",
   "metadata": {},
   "source": [
    "Now creating Better/Optimized Question for web-search"
   ]
  },
  {
   "cell_type": "code",
   "execution_count": 50,
   "id": "f10d32ae",
   "metadata": {},
   "outputs": [],
   "source": [
    "### Question Re-writer\n",
    "# Prompt\n",
    "from langchain_core.prompts import ChatPromptTemplate\n",
    "\n",
    "system = \"\"\"You a question re-writer that converts an input question and given image-info and getting key understanding of the image, converts an input question to a better version that is optimized \\n \n",
    "     for web search. Give only 1 optimized question. Look at the input and try to reason about the underlying semantic intent / meaning.\"\"\"\n",
    "     \n",
    "     \n",
    "re_write_prompt = ChatPromptTemplate.from_messages(\n",
    "    [\n",
    "        (\"system\", system),\n",
    "        (\n",
    "            \"human\",\n",
    "            \"Here is the initial question: \\n\\n {question} \\n Formulate an improved question.\",\n",
    "        ),\n",
    "    ]\n",
    ")\n",
    "\n",
    "question_rewriter = re_write_prompt | llm | StrOutputParser()"
   ]
  },
  {
   "cell_type": "code",
   "execution_count": 51,
   "id": "1aefea88",
   "metadata": {},
   "outputs": [
    {
     "data": {
      "text/plain": [
       "'What causes facial acne and how can it be treated?'"
      ]
     },
     "execution_count": 51,
     "metadata": {},
     "output_type": "execute_result"
    }
   ],
   "source": [
    "question = \"What happens if a person is having a pimple on his face n how to get rid of it?\"\n",
    "question_rewriter.invoke({\"question\": question})"
   ]
  },
  {
   "cell_type": "code",
   "execution_count": 52,
   "id": "dd81b5b6",
   "metadata": {},
   "outputs": [],
   "source": [
    "def transform_question(state):\n",
    "    \"\"\"\n",
    "    Transform the query to produce a better question\n",
    "\n",
    "    Args:\n",
    "        state (dict): The current graph state\n",
    "\n",
    "    Returns:\n",
    "        state (dict): Updates question key with a re-phrase question\n",
    "    \"\"\"\n",
    "    print(\"---TRANSFORMER QUERY---\")\n",
    "\n",
    "    question = state[\"question\"] + state[\"image_info\"]\n",
    "\n",
    "    # Re-write question\n",
    "    better_question = question_rewriter.invoke({\"question\": question})\n",
    "    # If the result is a dict, extract the actual question string\n",
    "    if isinstance(better_question, dict):\n",
    "        better_question = better_question.get(\"question\", \"\")\n",
    "\n",
    "\n",
    "    print(\"---NEW QUESTION---\")\n",
    "    print(better_question)\n",
    "    \n",
    "    return {\"question\": better_question}"
   ]
  },
  {
   "cell_type": "code",
   "execution_count": 53,
   "id": "9fcd9015",
   "metadata": {},
   "outputs": [
    {
     "name": "stdout",
     "output_type": "stream",
     "text": [
      "---TRANSFORMER QUERY---\n",
      "---NEW QUESTION---\n",
      "What do benign skin tags (acrochordons) look like on the neck?\n"
     ]
    },
    {
     "data": {
      "text/plain": [
       "{'question': 'What do benign skin tags (acrochordons) look like on the neck?'}"
      ]
     },
     "execution_count": 53,
     "metadata": {},
     "output_type": "execute_result"
    }
   ],
   "source": [
    "transform_question(my_state)"
   ]
  },
  {
   "cell_type": "markdown",
   "id": "aafd8378",
   "metadata": {},
   "source": [
    "For Web Search we will use Tavily"
   ]
  },
  {
   "cell_type": "code",
   "execution_count": 54,
   "id": "7296a1dd",
   "metadata": {},
   "outputs": [],
   "source": [
    "### Search\n",
    "\n",
    "from langchain_community.tools.tavily_search import TavilySearchResults\n",
    "\n",
    "web_search_tool = TavilySearchResults(k=5)"
   ]
  },
  {
   "cell_type": "code",
   "execution_count": 55,
   "id": "50241527",
   "metadata": {},
   "outputs": [],
   "source": [
    "from langchain.schema import Document\n",
    "def web_search(state):\n",
    "    \"\"\"\n",
    "    Web search based on the re-phrased question.\n",
    "\n",
    "    Args:\n",
    "        state (dict): The current graph state\n",
    "\n",
    "    Returns:\n",
    "        state (dict): Updates documents key with appended web results\n",
    "    \"\"\"\n",
    "    print(\"---WEB SEARCH---\")\n",
    "    \n",
    "    question = state[\"question\"]\n",
    "    \n",
    "    documents = state[\"documents\"]\n",
    "\n",
    "    # Web search\n",
    "    docs = web_search_tool.invoke({\"query\": question})\n",
    "    \n",
    "    web_results = \"\\n\".join([d[\"content\"] for d in docs])\n",
    "    \n",
    "    web_results = Document(page_content=web_results)\n",
    "    \n",
    "    documents.append(web_results)\n",
    "\n",
    "    return {\"documents\": documents, \"question\": question}"
   ]
  },
  {
   "cell_type": "markdown",
   "id": "16146133",
   "metadata": {},
   "source": [
    "Creating our RAG pipeline"
   ]
  },
  {
   "cell_type": "code",
   "execution_count": 56,
   "id": "db268dd3",
   "metadata": {},
   "outputs": [
    {
     "name": "stderr",
     "output_type": "stream",
     "text": [
      "C:\\Users\\Abhishek\\AppData\\Local\\Temp\\ipykernel_25536\\1330717160.py:4: LangChainDeprecationWarning: The class `HuggingFaceEmbeddings` was deprecated in LangChain 0.2.2 and will be removed in 1.0. An updated version of the class exists in the :class:`~langchain-huggingface package and should be used instead. To use it run `pip install -U :class:`~langchain-huggingface` and import as `from :class:`~langchain_huggingface import HuggingFaceEmbeddings``.\n",
      "  embeddings=HuggingFaceEmbeddings(model_name='sentence-transformers/all-MiniLM-L6-v2')\n"
     ]
    }
   ],
   "source": [
    "from langchain.embeddings import HuggingFaceEmbeddings\n",
    "#Loading the Embeddings from Hugging Face\n",
    "def hugging_face_embeddings():\n",
    "    embeddings=HuggingFaceEmbeddings(model_name='sentence-transformers/all-MiniLM-L6-v2')\n",
    "    return embeddings\n",
    "\n",
    "embeddings=hugging_face_embeddings()"
   ]
  },
  {
   "cell_type": "code",
   "execution_count": 57,
   "id": "7f10e91e",
   "metadata": {},
   "outputs": [],
   "source": [
    "index_name = \"medicalbot\"\n",
    "\n",
    "# Load Existing index \n",
    "\n",
    "from langchain_pinecone import PineconeVectorStore\n",
    "# Embed each chunk and upsert the embeddings into your Pinecone index.\n",
    "docsearch = PineconeVectorStore.from_existing_index(\n",
    "    index_name=index_name,\n",
    "    embedding=embeddings\n",
    ")"
   ]
  },
  {
   "cell_type": "code",
   "execution_count": 58,
   "id": "ecb437c2",
   "metadata": {},
   "outputs": [
    {
     "data": {
      "text/plain": [
       "<langchain_pinecone.vectorstores.PineconeVectorStore at 0x201828ae770>"
      ]
     },
     "execution_count": 58,
     "metadata": {},
     "output_type": "execute_result"
    }
   ],
   "source": [
    "docsearch"
   ]
  },
  {
   "cell_type": "code",
   "execution_count": 59,
   "id": "69c927a6",
   "metadata": {},
   "outputs": [],
   "source": [
    "retriever = docsearch.as_retriever()"
   ]
  },
  {
   "cell_type": "code",
   "execution_count": 60,
   "id": "b14e5094",
   "metadata": {},
   "outputs": [
    {
     "name": "stdout",
     "output_type": "stream",
     "text": [
      "---PROMPT--- input_variables=['context', 'question'] input_types={} partial_variables={} metadata={'lc_hub_owner': 'rlm', 'lc_hub_repo': 'rag-prompt', 'lc_hub_commit_hash': '50442af133e61576e74536c6556cefe1fac147cad032f4377b60c436e6cdcb6e'} messages=[HumanMessagePromptTemplate(prompt=PromptTemplate(input_variables=['context', 'question'], input_types={}, partial_variables={}, template=\"You are an assistant for question-answering tasks. Use the following pieces of retrieved context to answer the question. If you don't know the answer, just say that you don't know. Use three sentences maximum and keep the answer concise.\\nQuestion: {question} \\nContext: {context} \\nAnswer:\"), additional_kwargs={})]\n"
     ]
    }
   ],
   "source": [
    "from langchain import hub\n",
    "from langchain_core.output_parsers import StrOutputParser\n",
    "from langchain_core.runnables import RunnablePassthrough\n",
    "\n",
    "#Prompt\n",
    "prompt = hub.pull(\"rlm/rag-prompt\")\n",
    "'''\n",
    "Description:\n",
    "This is a prompt for retrieval-augmented-generation. It is useful for chat, QA, or other applications that rely on passing context to an LLM.\n",
    "\n",
    "You are an assistant for question-answering tasks. Use the following pieces of retrieved context to answer the question. If you don't know the answer, just say that you don't know. Use three sentences maximum and keep the answer concise.\n",
    "Question: {question} \n",
    "Context: {context} \n",
    "Answer:\n",
    "\n",
    "this the prompt associated with it,\n",
    "'''\n",
    "print(f\"---PROMPT--- {prompt}\")\n",
    "\n",
    "# Post-Processing\n",
    "def format_docs(docs):\n",
    "    return \"\\n\\n\".join(doc.page_content for doc in docs)\n",
    "\n",
    "\n",
    "# RAG chain setup\n",
    "rag_chain = (\n",
    "    {\"context\": retriever | format_docs, \"question\": RunnablePassthrough()}  #RunnablePassthrough() is used to pass the question as it is to the LLM\n",
    "    | prompt\n",
    "    | llm\n",
    "    | StrOutputParser()\n",
    ")"
   ]
  },
  {
   "cell_type": "code",
   "execution_count": 109,
   "id": "59ff2d4b",
   "metadata": {},
   "outputs": [],
   "source": [
    "def generate(state):\n",
    "    \"\"\"\n",
    "    Generate answer using RAG chain and web search\n",
    "\n",
    "    Args:\n",
    "        state (dict): The current graph state with 'question' and 'documents'\n",
    "    \n",
    "    Returns:\n",
    "        state (dict): Updated state with 'generation' added\n",
    "    \"\"\"\n",
    "    print(\"---GENERATE---\")\n",
    "\n",
    "    question = state[\"question\"]\n",
    "    documents = state[\"documents\"]  # This contains web search results\n",
    "    \n",
    "    if documents is None or len(documents) == 0:\n",
    "        if \"generation\" in state:\n",
    "            return {\n",
    "                \"question\": question,\n",
    "                \"documents\": documents,\n",
    "                \"generation\": state[\"generation\"]  \n",
    "            }\n",
    "        else:\n",
    "            return {\n",
    "                \"question\": question,\n",
    "                \"documents\": documents,\n",
    "                \"generation\": \"Error: No documents were retrieved before generation.\"\n",
    "            }\n",
    "\n",
    "    # Combine web search results with vector store retrieval\n",
    "    vector_docs = retriever.invoke(question)  # Get from Pinecone\n",
    "    \n",
    "    # Combine both sources\n",
    "    all_docs = documents + vector_docs  # Web search + Vector store\n",
    "    \n",
    "    # Format all documents\n",
    "    context = format_docs(all_docs)\n",
    "    print(\"---Generate---\")\n",
    "    # Create prompt manually since we're combining sources\n",
    "    final_prompt = f\"\"\"You are an assistant for question-answering tasks. Use the following pieces of retrieved context to answer the question. If you don't know the answer, just say that you don't know. Use three sentences maximum and keep the answer concise.\n",
    "\n",
    "    Question: {question}\n",
    "    Context: {context}\n",
    "    Answer:\"\"\"\n",
    "    \n",
    "    # Generate response\n",
    "    generation = llm.invoke(final_prompt).content\n",
    "    \n",
    "    return {\n",
    "        \"documents\": all_docs,\n",
    "        \"generation\": generation,\n",
    "        \"question\": question\n",
    "    }"
   ]
  },
  {
   "cell_type": "code",
   "execution_count": 100,
   "id": "c477041a",
   "metadata": {},
   "outputs": [],
   "source": [
    "from langgraph.graph import END, StateGraph, START"
   ]
  },
  {
   "cell_type": "code",
   "execution_count": 110,
   "id": "d6a57247",
   "metadata": {},
   "outputs": [],
   "source": [
    "workflow = StateGraph(State)"
   ]
  },
  {
   "cell_type": "code",
   "execution_count": 111,
   "id": "44a694b9",
   "metadata": {},
   "outputs": [
    {
     "data": {
      "text/plain": [
       "<langgraph.graph.state.StateGraph at 0x20184876440>"
      ]
     },
     "execution_count": 111,
     "metadata": {},
     "output_type": "execute_result"
    }
   ],
   "source": [
    "# Define the nodes\n",
    "workflow.add_node(\"Get_Image_Info\", analyze_medical_image) # retreive\n",
    "workflow.add_node(\"grade_image\", grade_medical_image) # grade_documents\n",
    "workflow.add_node(\"generate\", generate) # generate\n",
    "workflow.add_node(\"transform_question\", transform_question) # transformer_query\n",
    "workflow.add_node(\"web_search_node\", web_search) # web_search\n",
    "workflow.add_node(\"reject\", reject_question) # reject question which doesn't belong to medical domain"
   ]
  },
  {
   "cell_type": "code",
   "execution_count": 112,
   "id": "efffe654",
   "metadata": {},
   "outputs": [
    {
     "data": {
      "text/plain": [
       "<langgraph.graph.state.StateGraph at 0x20184876440>"
      ]
     },
     "execution_count": 112,
     "metadata": {},
     "output_type": "execute_result"
    }
   ],
   "source": [
    "# Build graph\n",
    "workflow.add_edge(START, \"grade_image\")\n",
    "\n",
    "workflow.add_conditional_edges(\n",
    "    \"grade_image\",\n",
    "    decide_to_generate,\n",
    "    {\n",
    "        \"Get_Image_Info\": \"Get_Image_Info\",\n",
    "        \"reject\": \"reject\"\n",
    "    }\n",
    ")\n",
    "workflow.add_edge(\"reject\", \"generate\")\n",
    "workflow.add_edge(\"Get_Image_Info\", \"transform_question\")\n",
    "\n",
    "workflow.add_edge(\"transform_question\", \"web_search_node\")\n",
    "\n",
    "workflow.add_edge(\"web_search_node\", \"generate\")\n",
    "\n",
    "workflow.add_edge(\"generate\", END)"
   ]
  },
  {
   "cell_type": "code",
   "execution_count": 113,
   "id": "fcfc8092",
   "metadata": {},
   "outputs": [],
   "source": [
    "# Compile\n",
    "app = workflow.compile()"
   ]
  },
  {
   "cell_type": "code",
   "execution_count": 114,
   "id": "6c311a40",
   "metadata": {},
   "outputs": [
    {
     "data": {
      "image/png": "[encoded data removed]",
      "text/plain": [
       "<IPython.core.display.Image object>"
      ]
     },
     "metadata": {},
     "output_type": "display_data"
    }
   ],
   "source": [
    "# Display the graph\n",
    "from IPython.display import Image, display # type: ignore\n",
    "display(Image(app.get_graph(xray=True).draw_mermaid_png()))"
   ]
  },
  {
   "cell_type": "code",
   "execution_count": 115,
   "id": "08c9b996",
   "metadata": {},
   "outputs": [],
   "source": [
    "from pprint import pprint"
   ]
  },
  {
   "cell_type": "code",
   "execution_count": 116,
   "id": "93da9cd2",
   "metadata": {},
   "outputs": [],
   "source": [
    "inputs = {\n",
    "    \"question\": \"\",\n",
    "    \"image_path\": \"C:/Users/Abhishek/Downloads/skin_image.jpg\",  \n",
    "    \"documents\": [],\n",
    "    \"generation\": \"\",\n",
    "    \"image_info\": \"\",\n",
    "    \"Image_Valid\": \"\"\n",
    "}"
   ]
  },
  {
   "cell_type": "code",
   "execution_count": 117,
   "id": "90aa909d",
   "metadata": {},
   "outputs": [
    {
     "name": "stdout",
     "output_type": "stream",
     "text": [
      "Supported image formats: JPEG (.jpg, .jpeg), PNG (.png)\n",
      "Recommended: Use JPEG format for best compatibility\n",
      "---GRADE: Image IS RELEVANT---\n",
      "\"Node 'grade_image':\"\n",
      "'\\n---\\n'\n",
      "Supported image formats: JPEG (.jpg, .jpeg), PNG (.png)\n",
      "Recommended: Use JPEG format for best compatibility\n",
      "---Image Analysis---\n",
      "response:  Here's an analysis of the medical image:\n",
      "\n",
      "**1. Disease/Condition:**\n",
      "The image depicts **skin tags**, medically known as **acrochordons** (or fibroepithelial polyps). These are common, benign (non-cancerous) growths of the skin.\n",
      "\n",
      "**2. Medical Terminology:**\n",
      "*   Acrochordon (plural: acrochordons)\n",
      "*   Skin tag\n",
      "*   Fibroepithelial polyp\n",
      "*   Pedunculated lesion (referring to the stalk-like attachment)\n",
      "*   Benign epidermal growth\n",
      "\n",
      "**3. Anatomical Location:**\n",
      "The lesions are located on the **neck**, specifically in the supraclavicular or lower cervical region. This is a common area for skin tags, along with other areas of skin folds (e.g., armpits, groin, eyelids).\n",
      "\n",
      "**4. Severity Assessment:**\n",
      "The skin tags appear typical and are considered **benign**. They are generally asymptomatic unless irritated by friction (e.g., from clothing or jewelry). Based on the image, there are no features suggestive of malignancy (such as irregular borders, unusual color, or rapid growth), indicating **low severity** from a pathological standpoint. The size varies, with one being larger and more prominent.\n",
      "\n",
      "**5. Additional Findings:**\n",
      "*   Multiple lesions are present, which is a common presentation for skin tags.\n",
      "*   The larger lesion exhibits a characteristic pedunculated (stalk-like) appearance.\n",
      "*   The lesions are flesh-colored to slightly hyperpigmented, consistent with acrochordons.\n",
      "*   No signs of inflammation, ulceration, or other suspicious changes are visible in the surrounding skin.\n",
      "\"Node 'Get_Image_Info':\"\n",
      "'\\n---\\n'\n",
      "---TRANSFORMER QUERY---\n",
      "---NEW QUESTION---\n",
      "What are skin tags on the neck and are they a cause for concern?\n",
      "\"Node 'transform_question':\"\n",
      "'\\n---\\n'\n",
      "---WEB SEARCH---\n",
      "\"Node 'web_search_node':\"\n",
      "'\\n---\\n'\n",
      "---GENERATE---\n",
      "---Generate---\n",
      "\"Node 'generate':\"\n",
      "'\\n---\\n'\n",
      "('Skin tags on the neck, also known as acrochordons, are small, benign, '\n",
      " 'non-cancerous growths composed of fibers, tissues, and blood vessels, '\n",
      " 'appearing as skin-colored or brown flaps. They typically result from skin '\n",
      " 'friction or genetic predisposition and are generally harmless and painless. '\n",
      " 'While they can cause discomfort or be a cosmetic concern, having skin tags '\n",
      " 'on the neck specifically is not a sign of any health issue.')\n"
     ]
    }
   ],
   "source": [
    "for output in app.stream(inputs):\n",
    "    for key, value in output.items():\n",
    "        # Node\n",
    "        pprint(f\"Node '{key}':\")\n",
    "        # Optional: print full state at each node\n",
    "        # pprint.pprint(value[\"keys\"], indent=2, width=80, depth=None)\n",
    "    pprint(\"\\n---\\n\")\n",
    "# Final generation\n",
    "pprint(value[\"generation\"])"
   ]
  },
  {
   "cell_type": "code",
   "execution_count": 118,
   "id": "dd413881",
   "metadata": {},
   "outputs": [],
   "source": [
    "inputs = {\n",
    "    \"question\": \"How to get relief from it?\",\n",
    "    \"image_path\": \"C:/Users/Abhishek/Downloads/skin_image.jpg\",  \n",
    "    \"documents\": [],\n",
    "    \"generation\": \"\",\n",
    "    \"image_info\": \"\",\n",
    "    \"Image_Valid\": \"\"\n",
    "}"
   ]
  },
  {
   "cell_type": "code",
   "execution_count": 119,
   "id": "48a9e953",
   "metadata": {},
   "outputs": [
    {
     "name": "stdout",
     "output_type": "stream",
     "text": [
      "Supported image formats: JPEG (.jpg, .jpeg), PNG (.png)\n",
      "Recommended: Use JPEG format for best compatibility\n",
      "---GRADE: Image IS RELEVANT---\n",
      "\"Node 'grade_image':\"\n",
      "'\\n---\\n'\n",
      "Supported image formats: JPEG (.jpg, .jpeg), PNG (.png)\n",
      "Recommended: Use JPEG format for best compatibility\n",
      "---Image Analysis---\n",
      "response:  This image displays common benign skin growths.\n",
      "\n",
      "**1. Disease/Condition:**\n",
      "*   **Acrochordons (Skin Tags):** These are common, benign, soft, skin-colored or hyperpigmented papules that often protrude from the skin on a narrow stalk.\n",
      "\n",
      "**2. Medical Terminology:**\n",
      "*   **Acrochordon:** The medical term for a skin tag.\n",
      "*   **Skin Tag:** Common name for acrochordon.\n",
      "*   **Benign:** Non-cancerous, harmless.\n",
      "*   **Pedunculated:** Having a stalk-like base (as opposed to sessile, which is broad-based).\n",
      "*   **Papule:** A small, raised, solid lesion on the skin.\n",
      "*   **Epidermal proliferation:** An overgrowth of skin cells.\n",
      "\n",
      "**3. Anatomical Location:**\n",
      "*   **Neck/Supraclavicular Region:** The lesions are located on the skin of the neck, near the collarbone area. This is a common site for skin tags due to friction.\n",
      "\n",
      "**4. Severity Assessment:**\n",
      "*   **Benign and Asymptomatic (Low Severity):** Skin tags are generally harmless and do not pose a health risk. They are primarily a cosmetic concern or may cause mild irritation if they rub against clothing or jewelry. There are no signs of inflammation, ulceration, or suspicious changes suggestive of malignancy in the image.\n",
      "\n",
      "**5. Additional Findings:**\n",
      "*   **Multiple Lesions:** Two distinct acrochordons are visible in the image. They appear typical in size and morphology.\n",
      "*   **Typical Appearance:** The lesions exhibit the characteristic soft, pendulous nature and skin-colored to slightly hyperpigmented appearance of skin tags.\n",
      "\"Node 'Get_Image_Info':\"\n",
      "'\\n---\\n'\n",
      "---TRANSFORMER QUERY---\n",
      "---NEW QUESTION---\n",
      "How to treat skin tags?\n",
      "\"Node 'transform_question':\"\n",
      "'\\n---\\n'\n",
      "---WEB SEARCH---\n",
      "\"Node 'web_search_node':\"\n",
      "'\\n---\\n'\n",
      "---GENERATE---\n",
      "---Generate---\n",
      "\"Node 'generate':\"\n",
      "'\\n---\\n'\n",
      "('Skin tags can be treated professionally through cryosurgery (freezing), '\n",
      " 'electrodesiccation (zapping), cauterization (burning), or excision '\n",
      " '(snipping). Some anecdotal at-home methods involve applying diluted tea tree '\n",
      " 'oil or apple cider vinegar, though their effectiveness lacks scientific '\n",
      " 'evidence. After any removal, it is important to follow aftercare '\n",
      " 'instructions, such as keeping the area clean and covered, to prevent '\n",
      " 'infection.')\n"
     ]
    }
   ],
   "source": [
    "for output in app.stream(inputs):\n",
    "    for key, value in output.items():\n",
    "        # Node\n",
    "        pprint(f\"Node '{key}':\")\n",
    "        # Optional: print full state at each node\n",
    "        # pprint.pprint(value[\"keys\"], indent=2, width=80, depth=None)\n",
    "    pprint(\"\\n---\\n\")\n",
    "# Final generation\n",
    "pprint(value[\"generation\"])"
   ]
  }
 ],
 "metadata": {
  "kernelspec": {
   "display_name": "Python 3",
   "language": "python",
   "name": "python3"
  },
  "language_info": {
   "codemirror_mode": {
    "name": "ipython",
    "version": 3
   },
   "file_extension": ".py",
   "mimetype": "text/x-python",
   "name": "python",
   "nbconvert_exporter": "python",
   "pygments_lexer": "ipython3",
   "version": "3.10.17"
  }
 },
 "nbformat": 4,
 "nbformat_minor": 5
}
